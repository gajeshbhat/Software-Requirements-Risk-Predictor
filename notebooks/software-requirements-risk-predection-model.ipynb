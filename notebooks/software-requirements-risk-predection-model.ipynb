{
 "cells": [
  {
   "cell_type": "code",
   "execution_count": 1,
   "metadata": {
    "_cell_guid": "b1076dfc-b9ad-4769-8c92-a6c4dae69d19",
    "_uuid": "8f2839f25d086af736a60e9eeb907d3b93b6e0e5",
    "pycharm": {
     "is_executing": true
    }
   },
   "outputs": [
    {
     "name": "stdout",
     "output_type": "stream",
     "text": [
      "../data/Software Requirements Risk Predection.csv\n"
     ]
    }
   ],
   "source": [
    "# This Python 3 environment comes with many helpful analytics libraries installed\n",
    "# It is defined by the kaggle/python Docker image: https://github.com/kaggle/docker-python\n",
    "# For example, here's several helpful packages to load\n",
    "\n",
    "import numpy as np # linear algebra\n",
    "import pandas as pd # data processing, CSV file I/O (e.g. pd.read_csv)\n",
    "import seaborn as sns\n",
    "import nltk\n",
    "from joblib import dump, load\n",
    "\n",
    "# Input data files are available in the read-only \"../input/\" directory\n",
    "# For example, running this (by clicking run or pressing Shift+Enter) will list all files under the input directory\n",
    "\n",
    "import os\n",
    "for dirname, _, filenames in os.walk('../data/'):\n",
    "    for filename in filenames:\n",
    "        print(os.path.join(dirname, filename))\n",
    "\n",
    "# You can write up to 20GB to the current directory (/kaggle/working/) that gets preserved as output when you create a version using \"Save & Run All\" \n",
    "# You can also write temporary files to /kaggle/temp/, but they won't be saved outside of the current session"
   ]
  },
  {
   "cell_type": "code",
   "execution_count": 2,
   "metadata": {},
   "outputs": [
    {
     "data": {
      "text/html": [
       "<div>\n",
       "<style scoped>\n",
       "    .dataframe tbody tr th:only-of-type {\n",
       "        vertical-align: middle;\n",
       "    }\n",
       "\n",
       "    .dataframe tbody tr th {\n",
       "        vertical-align: top;\n",
       "    }\n",
       "\n",
       "    .dataframe thead th {\n",
       "        text-align: right;\n",
       "    }\n",
       "</style>\n",
       "<table border=\"1\" class=\"dataframe\">\n",
       "  <thead>\n",
       "    <tr style=\"text-align: right;\">\n",
       "      <th></th>\n",
       "      <th>id</th>\n",
       "      <th>requirement_text</th>\n",
       "      <th>project</th>\n",
       "      <th>requirement_category</th>\n",
       "      <th>risk_type</th>\n",
       "      <th>probability</th>\n",
       "      <th>risk_magnitude</th>\n",
       "      <th>risk_impact</th>\n",
       "      <th>risk_dimension</th>\n",
       "      <th>requirement_affected</th>\n",
       "      <th>fixing</th>\n",
       "      <th>fix</th>\n",
       "      <th>fix_priority</th>\n",
       "      <th>req_aff_fix_affects</th>\n",
       "    </tr>\n",
       "  </thead>\n",
       "  <tbody>\n",
       "    <tr>\n",
       "      <th>0</th>\n",
       "      <td>1</td>\n",
       "      <td>The system shall display all the products that...</td>\n",
       "      <td>Transaction Processing System</td>\n",
       "      <td>Functional</td>\n",
       "      <td>Budget</td>\n",
       "      <td>10</td>\n",
       "      <td>Negligible</td>\n",
       "      <td>high</td>\n",
       "      <td>Requirements</td>\n",
       "      <td>9</td>\n",
       "      <td>1</td>\n",
       "      <td>10</td>\n",
       "      <td>95.715385</td>\n",
       "      <td>5</td>\n",
       "    </tr>\n",
       "    <tr>\n",
       "      <th>1</th>\n",
       "      <td>2</td>\n",
       "      <td>The system shall allow user to select the prod...</td>\n",
       "      <td>Transaction Processing System</td>\n",
       "      <td>Functional</td>\n",
       "      <td>Quality</td>\n",
       "      <td>22</td>\n",
       "      <td>Very Low</td>\n",
       "      <td>catastrophic</td>\n",
       "      <td>Requirements</td>\n",
       "      <td>7</td>\n",
       "      <td>2</td>\n",
       "      <td>11</td>\n",
       "      <td>35.900000</td>\n",
       "      <td>2</td>\n",
       "    </tr>\n",
       "    <tr>\n",
       "      <th>2</th>\n",
       "      <td>3</td>\n",
       "      <td>The system shall display all the available com...</td>\n",
       "      <td>Transaction Processing System</td>\n",
       "      <td>Functional</td>\n",
       "      <td>Schedule</td>\n",
       "      <td>33</td>\n",
       "      <td>Low</td>\n",
       "      <td>high</td>\n",
       "      <td>User</td>\n",
       "      <td>5</td>\n",
       "      <td>1</td>\n",
       "      <td>3</td>\n",
       "      <td>35.692308</td>\n",
       "      <td>2</td>\n",
       "    </tr>\n",
       "    <tr>\n",
       "      <th>3</th>\n",
       "      <td>4</td>\n",
       "      <td>The system shall enable user to add one or mor...</td>\n",
       "      <td>Transaction Processing System</td>\n",
       "      <td>Functional</td>\n",
       "      <td>Personal</td>\n",
       "      <td>40</td>\n",
       "      <td>Medium</td>\n",
       "      <td>moderate</td>\n",
       "      <td>Project complexity</td>\n",
       "      <td>D</td>\n",
       "      <td>3</td>\n",
       "      <td>2</td>\n",
       "      <td>44.100000</td>\n",
       "      <td>3</td>\n",
       "    </tr>\n",
       "    <tr>\n",
       "      <th>4</th>\n",
       "      <td>5</td>\n",
       "      <td>The system shall notify the user about any con...</td>\n",
       "      <td>Transaction Processing System</td>\n",
       "      <td>Functional</td>\n",
       "      <td>Budget</td>\n",
       "      <td>100</td>\n",
       "      <td>High</td>\n",
       "      <td>Low</td>\n",
       "      <td>planning and control</td>\n",
       "      <td>4</td>\n",
       "      <td>2</td>\n",
       "      <td>1</td>\n",
       "      <td>85.776923</td>\n",
       "      <td>5</td>\n",
       "    </tr>\n",
       "  </tbody>\n",
       "</table>\n",
       "</div>"
      ],
      "text/plain": [
       "   id                                   requirement_text  \\\n",
       "0   1  The system shall display all the products that...   \n",
       "1   2  The system shall allow user to select the prod...   \n",
       "2   3  The system shall display all the available com...   \n",
       "3   4  The system shall enable user to add one or mor...   \n",
       "4   5  The system shall notify the user about any con...   \n",
       "\n",
       "                         project requirement_category risk_type  probability  \\\n",
       "0  Transaction Processing System           Functional    Budget           10   \n",
       "1  Transaction Processing System           Functional   Quality           22   \n",
       "2  Transaction Processing System           Functional  Schedule           33   \n",
       "3  Transaction Processing System           Functional  Personal           40   \n",
       "4  Transaction Processing System           Functional    Budget          100   \n",
       "\n",
       "  risk_magnitude   risk_impact        risk_dimension requirement_affected  \\\n",
       "0     Negligible          high          Requirements                    9   \n",
       "1       Very Low  catastrophic          Requirements                    7   \n",
       "2            Low          high                  User                    5   \n",
       "3         Medium      moderate    Project complexity                    D   \n",
       "4           High           Low  planning and control                    4   \n",
       "\n",
       "   fixing fix  fix_priority  req_aff_fix_affects  \n",
       "0       1  10     95.715385                    5  \n",
       "1       2  11     35.900000                    2  \n",
       "2       1   3     35.692308                    2  \n",
       "3       3   2     44.100000                    3  \n",
       "4       2   1     85.776923                    5  "
      ]
     },
     "execution_count": 2,
     "metadata": {},
     "output_type": "execute_result"
    }
   ],
   "source": [
    "train_filepath = '../data/Software Requirements Risk Predection.csv'\n",
    "\n",
    "train_df = pd.read_csv(train_filepath)\n",
    "train_df.head()"
   ]
  },
  {
   "cell_type": "markdown",
   "metadata": {},
   "source": [
    "# Prelimnary data analysis\n",
    "Analyze the data and dervice insights and meaning that can be useful for modelling."
   ]
  },
  {
   "cell_type": "code",
   "execution_count": 3,
   "metadata": {},
   "outputs": [
    {
     "data": {
      "text/plain": [
       "[Text(0.5, 0, 'Number of Requirements'), Text(0, 0.5, 'Types of Projects')]"
      ]
     },
     "execution_count": 3,
     "metadata": {},
     "output_type": "execute_result"
    },
    {
     "data": {
      "image/png": "[encoded data removed]",
      "text/plain": [
       "<Figure size 432x288 with 1 Axes>"
      ]
     },
     "metadata": {
      "needs_background": "light"
     },
     "output_type": "display_data"
    }
   ],
   "source": [
    "# Requirement and types of project\n",
    "unique_value_counts = train_df.project.value_counts()\n",
    "unique_value_index = train_df.project.value_counts().index\n",
    "\n",
    "req_count_plot = sns.barplot(x=unique_value_counts, y=unique_value_index)\n",
    "req_count_plot.set(xlabel='Number of Requirements',ylabel='Types of Projects')"
   ]
  },
  {
   "cell_type": "code",
   "execution_count": 4,
   "metadata": {},
   "outputs": [
    {
     "data": {
      "text/plain": [
       "[Text(0.5, 0, 'Number of Requirements'),\n",
       " Text(0, 0.5, 'Requirement categories')]"
      ]
     },
     "execution_count": 4,
     "metadata": {},
     "output_type": "execute_result"
    },
    {
     "data": {
      "image/png": "[encoded data removed]",
      "text/plain": [
       "<Figure size 432x288 with 1 Axes>"
      ]
     },
     "metadata": {
      "needs_background": "light"
     },
     "output_type": "display_data"
    }
   ],
   "source": [
    "# Requirement types and counts\n",
    "unique_value_counts = train_df.requirement_category.value_counts()\n",
    "unique_value_index = train_df.requirement_category.value_counts().index\n",
    "\n",
    "req_count_plot = sns.barplot(x=unique_value_counts, y=unique_value_index)\n",
    "req_count_plot.set(xlabel='Number of Requirements',ylabel='Requirement categories')"
   ]
  },
  {
   "cell_type": "code",
   "execution_count": 5,
   "metadata": {},
   "outputs": [
    {
     "data": {
      "text/plain": [
       "[Text(0.5, 0, 'Total Count'), Text(0, 0.5, 'Types of Risks')]"
      ]
     },
     "execution_count": 5,
     "metadata": {},
     "output_type": "execute_result"
    },
    {
     "data": {
      "image/png": "[encoded data removed]",
      "text/plain": [
       "<Figure size 432x288 with 1 Axes>"
      ]
     },
     "metadata": {
      "needs_background": "light"
     },
     "output_type": "display_data"
    }
   ],
   "source": [
    "# Risk types and counts\n",
    "unique_value_counts = train_df.risk_type.value_counts()\n",
    "unique_value_index = train_df.risk_type.value_counts().index\n",
    "\n",
    "req_count_plot = sns.barplot(x=unique_value_counts, y=unique_value_index)\n",
    "req_count_plot.set(xlabel='Total Count',ylabel='Types of Risks')"
   ]
  },
  {
   "cell_type": "code",
   "execution_count": 6,
   "metadata": {},
   "outputs": [
    {
     "data": {
      "text/plain": [
       "[Text(0.5, 0, 'Total Count'), Text(0, 0.5, 'Type of Risk Impact')]"
      ]
     },
     "execution_count": 6,
     "metadata": {},
     "output_type": "execute_result"
    },
    {
     "data": {
      "image/png": "[encoded data removed]",
      "text/plain": [
       "<Figure size 432x288 with 1 Axes>"
      ]
     },
     "metadata": {
      "needs_background": "light"
     },
     "output_type": "display_data"
    }
   ],
   "source": [
    "# Risk Impact\n",
    "train_df['risk_impact'] = train_df['risk_impact'].str.strip()\n",
    "train_df['risk_impact'] = train_df['risk_impact'].str.lower()\n",
    "\n",
    "unique_value_counts = train_df.risk_impact.value_counts()\n",
    "unique_value_index = train_df.risk_impact.value_counts().index\n",
    "\n",
    "req_count_plot = sns.barplot(x=unique_value_counts, y=unique_value_index)\n",
    "req_count_plot.set(xlabel='Total Count',ylabel='Type of Risk Impact')"
   ]
  },
  {
   "cell_type": "code",
   "execution_count": 7,
   "metadata": {},
   "outputs": [
    {
     "data": {
      "text/plain": [
       "[Text(0.5, 0, 'Total Count'), Text(0, 0.5, 'Type of Risk Impact')]"
      ]
     },
     "execution_count": 7,
     "metadata": {},
     "output_type": "execute_result"
    },
    {
     "data": {
      "image/png": "[encoded data removed]",
      "text/plain": [
       "<Figure size 432x288 with 1 Axes>"
      ]
     },
     "metadata": {
      "needs_background": "light"
     },
     "output_type": "display_data"
    }
   ],
   "source": [
    "# Risk Magnitude\n",
    "train_df['risk_magnitude'] = train_df['risk_magnitude'].str.strip()\n",
    "train_df['risk_magnitude'] = train_df['risk_magnitude'].str.lower()\n",
    "\n",
    "unique_value_counts = train_df.risk_magnitude.value_counts()\n",
    "unique_value_index = train_df.risk_magnitude.value_counts().index\n",
    "\n",
    "req_count_plot = sns.barplot(x=unique_value_counts, y=unique_value_index)\n",
    "req_count_plot.set(xlabel='Total Count',ylabel='Type of Risk Impact')"
   ]
  },
  {
   "cell_type": "code",
   "execution_count": 8,
   "metadata": {},
   "outputs": [
    {
     "data": {
      "text/plain": [
       "<seaborn.axisgrid.FacetGrid at 0x7f83a8cb3fa0>"
      ]
     },
     "execution_count": 8,
     "metadata": {},
     "output_type": "execute_result"
    },
    {
     "data": {
      "image/png": "[encoded data removed]",
      "text/plain": [
       "<Figure size 360x360 with 1 Axes>"
      ]
     },
     "metadata": {
      "needs_background": "light"
     },
     "output_type": "display_data"
    }
   ],
   "source": [
    "# Length distribution of all the Requirements text\n",
    "req_len_hist = [len(str(req_text).strip().split()) for req_text in train_df.requirement_text]\n",
    "req_hist_obj = sns.displot(req_len_hist)\n",
    "req_hist_obj.set(xlabel='Number of words in requirements',ylabel='Total number of requirements')"
   ]
  },
  {
   "cell_type": "code",
   "execution_count": 9,
   "metadata": {},
   "outputs": [
    {
     "data": {
      "text/plain": [
       "[Text(0.5, 0, 'Whitespaced word tokens in Requirements'),\n",
       " Text(0, 0.5, 'Number of Tokens')]"
      ]
     },
     "execution_count": 9,
     "metadata": {},
     "output_type": "execute_result"
    },
    {
     "data": {
      "image/png": "[encoded data removed]",
      "text/plain": [
       "<Figure size 432x288 with 1 Axes>"
      ]
     },
     "metadata": {
      "needs_background": "light"
     },
     "output_type": "display_data"
    }
   ],
   "source": [
    "# Top 10 words found in Requirement\n",
    "wp_tokenizer = nltk.tokenize.WhitespaceTokenizer()\n",
    "wp_tokens_req = [wp_tokenizer.tokenize(req_text) for req_text in train_df.requirement_text]\n",
    "all_token_dict = dict()\n",
    "\n",
    "for token_list in wp_tokens_req:\n",
    "    for token in token_list:\n",
    "        if token not in all_token_dict:\n",
    "            all_token_dict[token] = 1\n",
    "        else:\n",
    "            all_token_dict[token] +=1\n",
    "\n",
    "# Sort and get top 10\n",
    "sorted_token_dict = {key: value for key, value in sorted(all_token_dict.items(), key=lambda item: item[1],reverse=True)}\n",
    "top_words = list()\n",
    "top_values = list()\n",
    "\n",
    "for key,value in sorted_token_dict.items():\n",
    "    top_words.append(key)\n",
    "    top_values.append(value)\n",
    "\n",
    "req_hist_token = sns.scatterplot(x=top_words[:10],y=top_values[:10])\n",
    "req_hist_token.set(xlabel='Whitespaced word tokens in Requirements',ylabel='Number of Tokens')\n",
    "\n",
    "# It can be observed that the most of the words in the requirements are stop words and they can be removed to train better models."
   ]
  },
  {
   "cell_type": "markdown",
   "metadata": {},
   "source": [
    "# Modelling and training\n",
    "Now we have some insight into how these requirements are written and what are the words used. We can train our model to predict risk in new requirements elicited"
   ]
  },
  {
   "cell_type": "code",
   "execution_count": 10,
   "metadata": {},
   "outputs": [
    {
     "data": {
      "text/html": [
       "<div>\n",
       "<style scoped>\n",
       "    .dataframe tbody tr th:only-of-type {\n",
       "        vertical-align: middle;\n",
       "    }\n",
       "\n",
       "    .dataframe tbody tr th {\n",
       "        vertical-align: top;\n",
       "    }\n",
       "\n",
       "    .dataframe thead th {\n",
       "        text-align: right;\n",
       "    }\n",
       "</style>\n",
       "<table border=\"1\" class=\"dataframe\">\n",
       "  <thead>\n",
       "    <tr style=\"text-align: right;\">\n",
       "      <th></th>\n",
       "      <th>id</th>\n",
       "      <th>requirement_text</th>\n",
       "      <th>project</th>\n",
       "      <th>requirement_category</th>\n",
       "      <th>risk_type</th>\n",
       "      <th>probability</th>\n",
       "      <th>risk_magnitude</th>\n",
       "      <th>risk_impact</th>\n",
       "      <th>risk_dimension</th>\n",
       "      <th>requirement_affected</th>\n",
       "      <th>fixing</th>\n",
       "      <th>fix</th>\n",
       "      <th>fix_priority</th>\n",
       "      <th>req_aff_fix_affects</th>\n",
       "    </tr>\n",
       "  </thead>\n",
       "  <tbody>\n",
       "    <tr>\n",
       "      <th>0</th>\n",
       "      <td>1</td>\n",
       "      <td>The system shall display all the products that...</td>\n",
       "      <td>Transaction Processing System</td>\n",
       "      <td>Functional</td>\n",
       "      <td>Budget</td>\n",
       "      <td>10</td>\n",
       "      <td>negligible</td>\n",
       "      <td>high</td>\n",
       "      <td>Requirements</td>\n",
       "      <td>9</td>\n",
       "      <td>1</td>\n",
       "      <td>10</td>\n",
       "      <td>95.715385</td>\n",
       "      <td>5</td>\n",
       "    </tr>\n",
       "    <tr>\n",
       "      <th>1</th>\n",
       "      <td>2</td>\n",
       "      <td>The system shall allow user to select the prod...</td>\n",
       "      <td>Transaction Processing System</td>\n",
       "      <td>Functional</td>\n",
       "      <td>Quality</td>\n",
       "      <td>22</td>\n",
       "      <td>very low</td>\n",
       "      <td>catastrophic</td>\n",
       "      <td>Requirements</td>\n",
       "      <td>7</td>\n",
       "      <td>2</td>\n",
       "      <td>11</td>\n",
       "      <td>35.900000</td>\n",
       "      <td>2</td>\n",
       "    </tr>\n",
       "    <tr>\n",
       "      <th>2</th>\n",
       "      <td>3</td>\n",
       "      <td>The system shall display all the available com...</td>\n",
       "      <td>Transaction Processing System</td>\n",
       "      <td>Functional</td>\n",
       "      <td>Schedule</td>\n",
       "      <td>33</td>\n",
       "      <td>low</td>\n",
       "      <td>high</td>\n",
       "      <td>User</td>\n",
       "      <td>5</td>\n",
       "      <td>1</td>\n",
       "      <td>3</td>\n",
       "      <td>35.692308</td>\n",
       "      <td>2</td>\n",
       "    </tr>\n",
       "    <tr>\n",
       "      <th>3</th>\n",
       "      <td>4</td>\n",
       "      <td>The system shall enable user to add one or mor...</td>\n",
       "      <td>Transaction Processing System</td>\n",
       "      <td>Functional</td>\n",
       "      <td>Personal</td>\n",
       "      <td>40</td>\n",
       "      <td>medium</td>\n",
       "      <td>moderate</td>\n",
       "      <td>Project complexity</td>\n",
       "      <td>D</td>\n",
       "      <td>3</td>\n",
       "      <td>2</td>\n",
       "      <td>44.100000</td>\n",
       "      <td>3</td>\n",
       "    </tr>\n",
       "    <tr>\n",
       "      <th>4</th>\n",
       "      <td>5</td>\n",
       "      <td>The system shall notify the user about any con...</td>\n",
       "      <td>Transaction Processing System</td>\n",
       "      <td>Functional</td>\n",
       "      <td>Budget</td>\n",
       "      <td>100</td>\n",
       "      <td>high</td>\n",
       "      <td>low</td>\n",
       "      <td>planning and control</td>\n",
       "      <td>4</td>\n",
       "      <td>2</td>\n",
       "      <td>1</td>\n",
       "      <td>85.776923</td>\n",
       "      <td>5</td>\n",
       "    </tr>\n",
       "  </tbody>\n",
       "</table>\n",
       "</div>"
      ],
      "text/plain": [
       "   id                                   requirement_text  \\\n",
       "0   1  The system shall display all the products that...   \n",
       "1   2  The system shall allow user to select the prod...   \n",
       "2   3  The system shall display all the available com...   \n",
       "3   4  The system shall enable user to add one or mor...   \n",
       "4   5  The system shall notify the user about any con...   \n",
       "\n",
       "                         project requirement_category risk_type  probability  \\\n",
       "0  Transaction Processing System           Functional    Budget           10   \n",
       "1  Transaction Processing System           Functional   Quality           22   \n",
       "2  Transaction Processing System           Functional  Schedule           33   \n",
       "3  Transaction Processing System           Functional  Personal           40   \n",
       "4  Transaction Processing System           Functional    Budget          100   \n",
       "\n",
       "  risk_magnitude   risk_impact        risk_dimension requirement_affected  \\\n",
       "0     negligible          high          Requirements                    9   \n",
       "1       very low  catastrophic          Requirements                    7   \n",
       "2            low          high                  User                    5   \n",
       "3         medium      moderate    Project complexity                    D   \n",
       "4           high           low  planning and control                    4   \n",
       "\n",
       "   fixing fix  fix_priority  req_aff_fix_affects  \n",
       "0       1  10     95.715385                    5  \n",
       "1       2  11     35.900000                    2  \n",
       "2       1   3     35.692308                    2  \n",
       "3       3   2     44.100000                    3  \n",
       "4       2   1     85.776923                    5  "
      ]
     },
     "execution_count": 10,
     "metadata": {},
     "output_type": "execute_result"
    }
   ],
   "source": [
    "train_df.head()"
   ]
  },
  {
   "cell_type": "code",
   "execution_count": 11,
   "metadata": {},
   "outputs": [],
   "source": [
    "# Drop Irrelevant Columns\n",
    "\n",
    "copy_df = train_df.copy()\n",
    "\n",
    "cols_to_drop = ['id','project','requirement_category','probability','risk_magnitude','risk_dimension','requirement_affected','fixing','fix','fix_priority','req_aff_fix_affects']\n",
    "for col in cols_to_drop:\n",
    "    copy_df.drop(col, axis =1, inplace = True)"
   ]
  },
  {
   "cell_type": "code",
   "execution_count": 12,
   "metadata": {},
   "outputs": [
    {
     "data": {
      "text/html": [
       "<div>\n",
       "<style scoped>\n",
       "    .dataframe tbody tr th:only-of-type {\n",
       "        vertical-align: middle;\n",
       "    }\n",
       "\n",
       "    .dataframe tbody tr th {\n",
       "        vertical-align: top;\n",
       "    }\n",
       "\n",
       "    .dataframe thead th {\n",
       "        text-align: right;\n",
       "    }\n",
       "</style>\n",
       "<table border=\"1\" class=\"dataframe\">\n",
       "  <thead>\n",
       "    <tr style=\"text-align: right;\">\n",
       "      <th></th>\n",
       "      <th>requirement_text</th>\n",
       "      <th>risk_type</th>\n",
       "      <th>risk_impact</th>\n",
       "    </tr>\n",
       "  </thead>\n",
       "  <tbody>\n",
       "    <tr>\n",
       "      <th>0</th>\n",
       "      <td>the system shall display all the products that...</td>\n",
       "      <td>Budget</td>\n",
       "      <td>high</td>\n",
       "    </tr>\n",
       "    <tr>\n",
       "      <th>1</th>\n",
       "      <td>the system shall allow user to select the prod...</td>\n",
       "      <td>Quality</td>\n",
       "      <td>catastrophic</td>\n",
       "    </tr>\n",
       "    <tr>\n",
       "      <th>2</th>\n",
       "      <td>the system shall display all the available com...</td>\n",
       "      <td>Schedule</td>\n",
       "      <td>high</td>\n",
       "    </tr>\n",
       "    <tr>\n",
       "      <th>3</th>\n",
       "      <td>the system shall enable user to add one or mor...</td>\n",
       "      <td>Personal</td>\n",
       "      <td>moderate</td>\n",
       "    </tr>\n",
       "    <tr>\n",
       "      <th>4</th>\n",
       "      <td>the system shall notify the user about any con...</td>\n",
       "      <td>Budget</td>\n",
       "      <td>low</td>\n",
       "    </tr>\n",
       "  </tbody>\n",
       "</table>\n",
       "</div>"
      ],
      "text/plain": [
       "                                    requirement_text risk_type   risk_impact\n",
       "0  the system shall display all the products that...    Budget          high\n",
       "1  the system shall allow user to select the prod...   Quality  catastrophic\n",
       "2  the system shall display all the available com...  Schedule          high\n",
       "3  the system shall enable user to add one or mor...  Personal      moderate\n",
       "4  the system shall notify the user about any con...    Budget           low"
      ]
     },
     "execution_count": 12,
     "metadata": {},
     "output_type": "execute_result"
    }
   ],
   "source": [
    "# Clean Requirements text column\n",
    "from nltk.corpus import stopwords\n",
    "stop = stopwords.words('english')\n",
    "\n",
    "copy_df['requirement_text'] = copy_df['requirement_text'].str.strip()\n",
    "copy_df['requirement_text'] = copy_df['requirement_text'].str.lower()\n",
    "\n",
    "copy_df[\"requirement_text\"].apply(lambda words: ' '.join(word.lower() for word in words.split() if word not in stop))\n",
    "\n",
    "copy_df.head()"
   ]
  },
  {
   "cell_type": "code",
   "execution_count": 13,
   "metadata": {},
   "outputs": [
    {
     "data": {
      "text/plain": [
       "(299, 300)"
      ]
     },
     "execution_count": 13,
     "metadata": {},
     "output_type": "execute_result"
    }
   ],
   "source": [
    "# Using Word Vectors\n",
    "import spacy\n",
    "\n",
    "nlp = spacy.load('en_core_web_lg')\n",
    "\n",
    "# Disable Spacy pipelines and create an array of requirement vectors (Both train and test set)\n",
    "with nlp.disable_pipes():\n",
    "    doc_vectors = np.array([nlp(text).vector for text in copy_df.requirement_text])\n",
    "    \n",
    "doc_vectors.shape"
   ]
  },
  {
   "cell_type": "code",
   "execution_count": 14,
   "metadata": {},
   "outputs": [],
   "source": [
    "from sklearn.model_selection import train_test_split\n",
    "\n",
    "# Test train split on train data\n",
    "X_train, X_test, y_train, y_test = train_test_split(doc_vectors, copy_df.risk_impact,\n",
    "                                                    test_size=0.3, random_state=1)"
   ]
  },
  {
   "cell_type": "code",
   "execution_count": 15,
   "metadata": {},
   "outputs": [
    {
     "name": "stdout",
     "output_type": "stream",
     "text": [
      "Accuracy: 32.222%\n"
     ]
    },
    {
     "data": {
      "text/plain": [
       "['../models/SVCRequirementRisk.joblib']"
      ]
     },
     "execution_count": 15,
     "metadata": {},
     "output_type": "execute_result"
    }
   ],
   "source": [
    "from sklearn.svm import LinearSVC\n",
    "\n",
    "# Set dual=False to speed up training, and it's not needed\n",
    "svc = LinearSVC(random_state=1, dual=True, max_iter=1000)\n",
    "svc.fit(X_train, y_train)\n",
    "\n",
    "# Tested on the test set\n",
    "print(f\"Accuracy: {svc.score(X_test, y_test) * 100:.3f}%\", )\n",
    "dump(svc, '../models/SVCRequirementRisk.joblib')"
   ]
  },
  {
   "cell_type": "code",
   "execution_count": null,
   "metadata": {},
   "outputs": [],
   "source": []
  }
 ],
 "metadata": {
  "kernelspec": {
   "display_name": "Python 3",
   "language": "python",
   "name": "python3"
  },
  "language_info": {
   "codemirror_mode": {
    "name": "ipython",
    "version": 3
   },
   "file_extension": ".py",
   "mimetype": "text/x-python",
   "name": "python",
   "nbconvert_exporter": "python",
   "pygments_lexer": "ipython3",
   "version": "3.8.5"
  }
 },
 "nbformat": 4,
 "nbformat_minor": 4
}
